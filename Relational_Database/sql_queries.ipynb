{
 "cells": [
  {
   "cell_type": "code",
   "execution_count": 61,
   "metadata": {},
   "outputs": [],
   "source": [
    "from mysql_db import mysql_conn\n",
    "mysql_conn = mysql_conn.mysql_connection()\n",
    "conn = mysql_conn.mysql"
   ]
  },
  {
   "cell_type": "code",
   "execution_count": 62,
   "metadata": {},
   "outputs": [
    {
     "name": "stdout",
     "output_type": "stream",
     "text": [
      "information_schema\n",
      "my_db\n",
      "mydb\n",
      "mysql\n",
      "performance_schema\n",
      "sys\n"
     ]
    }
   ],
   "source": [
    "# show databases\n",
    "conn.execute('SHOW DATABASES')\n",
    "\n",
    "for db_name in conn:\n",
    "    print(db_name[0].decode())"
   ]
  },
  {
   "cell_type": "code",
   "execution_count": 63,
   "metadata": {},
   "outputs": [
    {
     "name": "stdout",
     "output_type": "stream",
     "text": [
      "Is DB - my_db already Created: True\n"
     ]
    }
   ],
   "source": [
    "def create_db(db_name : str ='mydb'):\n",
    "    conn.execute('SHOW DATABASES')\n",
    "    db_created = False\n",
    "    for table_name in conn:\n",
    "        if table_name[0].decode() == db_name:\n",
    "            db_created = True\n",
    "\n",
    "    print(f'Is DB - {db_name} already Created: {db_created}')\n",
    "    if not db_created:\n",
    "        conn.execute(f'CREATE DATABASE {db_name}')\n",
    "        print(f'Database {db_name} is created.')\n",
    "\n",
    "create_db(db_name= 'my_db')"
   ]
  },
  {
   "cell_type": "code",
   "execution_count": 64,
   "metadata": {},
   "outputs": [],
   "source": [
    "conn.execute('Use mydb')"
   ]
  },
  {
   "cell_type": "code",
   "execution_count": 17,
   "metadata": {},
   "outputs": [],
   "source": [
    "def drop_tables(table_name: list = None, db_name: str = None, conn: str = None):\n",
    "    delete_table_list = [table_name] if type(table_name) == 'str' else table_name\n",
    "    if conn == None:\n",
    "        conn = mysql_conn.mysql\n",
    "    if db_name is not None:\n",
    "        conn.execute(f'USE {db_name}')\n",
    "    \n",
    "    conn.execute('SHOW Tables')\n",
    "    for table_name in conn:\n",
    "        table_name_str = table_name[0].decode()\n",
    "        if table_name_str  in delete_table_list:\n",
    "            conn.execute(f'Drop Table {table_name_str}')\n",
    "            print(f'delete {table_name[0].decode()} table')\n",
    "            continue\n",
    "        print(f'{table_name_str} still persist')"
   ]
  },
  {
   "cell_type": "code",
   "execution_count": 87,
   "metadata": {},
   "outputs": [
    {
     "name": "stdout",
     "output_type": "stream",
     "text": [
      "delete student table\n"
     ]
    }
   ],
   "source": [
    "drop_tables(table_name = 'student', db_name = 'mydb')\n",
    "conn.execute('CREATE TABLE student (student_id INT, name VARCHAR(20), major VARCHAR(20), PRIMARY KEY(student_id));')"
   ]
  },
  {
   "cell_type": "code",
   "execution_count": 24,
   "metadata": {},
   "outputs": [
    {
     "name": "stdout",
     "output_type": "stream",
     "text": [
      "(bytearray(b'student'),)\n"
     ]
    }
   ],
   "source": [
    "conn.execute('Show tables')\n",
    "for table_name in conn:\n",
    "    print(table_name)"
   ]
  },
  {
   "cell_type": "code",
   "execution_count": 42,
   "metadata": {},
   "outputs": [
    {
     "name": "stdout",
     "output_type": "stream",
     "text": [
      "('student_id', b'int', 'NO', bytearray(b'PRI'), None, '')\n",
      "('name', b'varchar(20)', 'YES', bytearray(b''), None, '')\n",
      "('major', b'varchar(20)', 'YES', bytearray(b''), None, '')\n"
     ]
    }
   ],
   "source": [
    "conn.execute('DESCRIBE student')\n",
    "for i in conn:\n",
    "    print(i)"
   ]
  },
  {
   "cell_type": "code",
   "execution_count": 41,
   "metadata": {},
   "outputs": [],
   "source": [
    "conn.execute('ALTER TABLE student ADD gpa DECIMAL(3, 2);')\n",
    "conn.execute('ALTER TABLE student DROP gpa;')"
   ]
  },
  {
   "cell_type": "code",
   "execution_count": 88,
   "metadata": {},
   "outputs": [],
   "source": [
    "conn.execute('Insert INTO student VALUES(1, \"Jack\", \"Biology\");')"
   ]
  },
  {
   "cell_type": "code",
   "execution_count": 54,
   "metadata": {},
   "outputs": [],
   "source": [
    "def show_table_results(query: str = None):\n",
    "    if query == None:\n",
    "        raise Exception('query cannot be None')\n",
    "    \n",
    "    conn.execute(query)\n",
    "    for row1 in conn:\n",
    "        print(row1)"
   ]
  },
  {
   "cell_type": "code",
   "execution_count": 76,
   "metadata": {},
   "outputs": [
    {
     "name": "stdout",
     "output_type": "stream",
     "text": [
      "(1, 'Jack', 'Bio')\n",
      "(2, 'Kate', 'Sociology')\n",
      "(3, 'Claire', 'Chemistry')\n",
      "(4, 'Jack', 'Bio')\n",
      "(5, 'Mike', 'Computer Science')\n"
     ]
    }
   ],
   "source": [
    "show_table_results('Select * From student;')"
   ]
  },
  {
   "cell_type": "code",
   "execution_count": 89,
   "metadata": {},
   "outputs": [],
   "source": [
    "conn.execute('Insert INTO student VALUES(2, \"Kate\", \"Sociology\");')\n",
    "# conn.execute('Insert INTO student(student_id, name) VALUES(3, \"Claire\");')\n",
    "conn.execute('Insert INTO student VALUES(3, \"Claire\", \"Chemistry\");')\n",
    "conn.execute('Insert INTO student VALUES(4, \"Jack\", \"Biology\");')\n",
    "conn.execute('Insert INTO student VALUES(5, \"Mike\", \"Computer Science\");')"
   ]
  },
  {
   "cell_type": "code",
   "execution_count": 70,
   "metadata": {},
   "outputs": [],
   "source": [
    "conn.execute('DROP TABLE student;')"
   ]
  },
  {
   "cell_type": "code",
   "execution_count": 66,
   "metadata": {},
   "outputs": [],
   "source": [
    "conn.execute('CREATE TABLE student (student_id INT, name VARCHAR(20) NOT NULL, major VARCHAR(20) UNIQUE, PRIMARY KEY(student_id))')"
   ]
  },
  {
   "cell_type": "code",
   "execution_count": 83,
   "metadata": {},
   "outputs": [],
   "source": [
    "conn.execute('UPDATE student SET major=\"Bio\" WHERE major = \"Biology\";')\n",
    "conn.execute('UPDATE student SET major=\"Comp Sci\" WHERE major = \"Computer Science\";')\n",
    "conn.execute('UPDATE student SET major=\"Comp Sci\" WHERE student_id = 4;')\n",
    "conn.execute('UPDATE student SET major=\"BioChemistry\" WHERE major = \"Bio\" OR major = \"Chemistry\";')\n",
    "\n",
    "# If remove where condition then the changes will be affected to every single row."
   ]
  },
  {
   "cell_type": "code",
   "execution_count": 85,
   "metadata": {},
   "outputs": [],
   "source": [
    "conn.execute('DELETE FROM student where student_id = 5')"
   ]
  },
  {
   "cell_type": "code",
   "execution_count": null,
   "metadata": {},
   "outputs": [],
   "source": [
    "show_table_results('Select * From student;')"
   ]
  },
  {
   "cell_type": "code",
   "execution_count": 102,
   "metadata": {},
   "outputs": [
    {
     "name": "stdout",
     "output_type": "stream",
     "text": [
      "('Mike', 'Computer Science')\n",
      "('Jack', 'Biology')\n",
      "('Claire', 'Chemistry')\n",
      "('Kate', 'Sociology')\n",
      "('Jack', 'Biology')\n",
      "============\n",
      "(1, 'Jack', 'Biology')\n",
      "(4, 'Jack', 'Biology')\n",
      "(3, 'Claire', 'Chemistry')\n",
      "(5, 'Mike', 'Computer Science')\n",
      "(2, 'Kate', 'Sociology')\n",
      "============\n",
      "(1, 'Jack', 'Biology')\n",
      "(4, 'Jack', 'Biology')\n",
      "============\n",
      "(2, 'Kate', 'Sociology')\n",
      "(3, 'Claire', 'Chemistry')\n",
      "(5, 'Mike', 'Computer Science')\n"
     ]
    }
   ],
   "source": [
    "show_table_results('Select student.name, student.major From student ORDER BY student_id DESC;')\n",
    "print('============')\n",
    "show_table_results('Select * From student ORDER BY major, student_id ASC;')\n",
    "print('============')\n",
    "show_table_results('Select * From student ORDER BY major, student_id ASC limit 2;')\n",
    "print('============')\n",
    "show_table_results('Select * From student Where name IN (\"Claire\", \"Kate\", \"Mike\");')"
   ]
  }
 ],
 "metadata": {
  "kernelspec": {
   "display_name": "Python 3.7.10 ('test_env')",
   "language": "python",
   "name": "python3"
  },
  "language_info": {
   "codemirror_mode": {
    "name": "ipython",
    "version": 3
   },
   "file_extension": ".py",
   "mimetype": "text/x-python",
   "name": "python",
   "nbconvert_exporter": "python",
   "pygments_lexer": "ipython3",
   "version": "3.7.10"
  },
  "orig_nbformat": 4,
  "vscode": {
   "interpreter": {
    "hash": "1b06012a691e9a82b399fa5b62befdaf40e22bd99842e7a926c3ab0bb48ceaec"
   }
  }
 },
 "nbformat": 4,
 "nbformat_minor": 2
}
