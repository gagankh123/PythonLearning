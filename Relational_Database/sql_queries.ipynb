{
 "cells": [
  {
   "cell_type": "code",
   "execution_count": 61,
   "metadata": {},
   "outputs": [],
   "source": [
    "from mysql_db import mysql_conn\n",
    "mysql_conn = mysql_conn.mysql_connection()\n",
    "conn = mysql_conn.mysql"
   ]
  },
  {
   "cell_type": "code",
   "execution_count": 62,
   "metadata": {},
   "outputs": [
    {
     "name": "stdout",
     "output_type": "stream",
     "text": [
      "information_schema\n",
      "my_db\n",
      "mydb\n",
      "mysql\n",
      "performance_schema\n",
      "sys\n"
     ]
    }
   ],
   "source": [
    "# show databases\n",
    "conn.execute('SHOW DATABASES')\n",
    "\n",
    "for db_name in conn:\n",
    "    print(db_name[0].decode())"
   ]
  },
  {
   "cell_type": "code",
   "execution_count": 2,
   "metadata": {},
   "outputs": [],
   "source": [
    "def create_db(db_name : str ='mydb'):\n",
    "    conn.execute('SHOW DATABASES')\n",
    "    db_created = False\n",
    "    for table_name in conn:\n",
    "        if table_name[0].decode() == db_name:\n",
    "            db_created = True\n",
    "\n",
    "    print(f'Is DB - {db_name} already Created: {db_created}')\n",
    "    if not db_created:\n",
    "        conn.execute(f'CREATE DATABASE {db_name}')\n",
    "        print(f'Database {db_name} is created.')\n",
    "\n",
    "create_db(db_name= 'my_db')"
   ]
  },
  {
   "cell_type": "code",
   "execution_count": 64,
   "metadata": {},
   "outputs": [],
   "source": [
    "conn.execute('Use mydb')"
   ]
  },
  {
   "cell_type": "code",
   "execution_count": 3,
   "metadata": {},
   "outputs": [],
   "source": [
    "def drop_tables(table_name: list = None, db_name: str = None, conn: str = None):\n",
    "    delete_table_list = [table_name] if type(table_name) == 'str' else table_name\n",
    "    if conn == None:\n",
    "        conn = mysql_conn.mysql\n",
    "    if db_name is not None:\n",
    "        conn.execute(f'USE {db_name}')\n",
    "    \n",
    "    conn.execute('SHOW Tables')\n",
    "    for table_name in conn:\n",
    "        table_name_str = table_name[0].decode()\n",
    "        if table_name_str  in delete_table_list:\n",
    "            conn.execute(f'Drop Table {table_name_str}')\n",
    "            print(f'delete {table_name[0].decode()} table')\n",
    "            continue\n",
    "        print(f'{table_name_str} still persist')"
   ]
  },
  {
   "cell_type": "code",
   "execution_count": 87,
   "metadata": {},
   "outputs": [
    {
     "name": "stdout",
     "output_type": "stream",
     "text": [
      "delete student table\n"
     ]
    }
   ],
   "source": [
    "drop_tables(table_name = 'student', db_name = 'mydb')\n",
    "conn.execute('CREATE TABLE student (student_id INT, name VARCHAR(20), major VARCHAR(20), PRIMARY KEY(student_id));')"
   ]
  },
  {
   "cell_type": "code",
   "execution_count": 24,
   "metadata": {},
   "outputs": [
    {
     "name": "stdout",
     "output_type": "stream",
     "text": [
      "(bytearray(b'student'),)\n"
     ]
    }
   ],
   "source": [
    "conn.execute('Show tables')\n",
    "for table_name in conn:\n",
    "    print(table_name)"
   ]
  },
  {
   "cell_type": "code",
   "execution_count": 42,
   "metadata": {},
   "outputs": [
    {
     "name": "stdout",
     "output_type": "stream",
     "text": [
      "('student_id', b'int', 'NO', bytearray(b'PRI'), None, '')\n",
      "('name', b'varchar(20)', 'YES', bytearray(b''), None, '')\n",
      "('major', b'varchar(20)', 'YES', bytearray(b''), None, '')\n"
     ]
    }
   ],
   "source": [
    "conn.execute('DESCRIBE student')\n",
    "for i in conn:\n",
    "    print(i)"
   ]
  },
  {
   "cell_type": "code",
   "execution_count": 41,
   "metadata": {},
   "outputs": [],
   "source": [
    "conn.execute('ALTER TABLE student ADD gpa DECIMAL(3, 2);')\n",
    "conn.execute('ALTER TABLE student DROP gpa;')"
   ]
  },
  {
   "cell_type": "code",
   "execution_count": 88,
   "metadata": {},
   "outputs": [],
   "source": [
    "conn.execute('Insert INTO student VALUES(1, \"Jack\", \"Biology\");')"
   ]
  },
  {
   "cell_type": "code",
   "execution_count": 4,
   "metadata": {},
   "outputs": [],
   "source": [
    "def show_table_results(query: str = None):\n",
    "    if query == None:\n",
    "        raise Exception('query cannot be None')\n",
    "    \n",
    "    conn.execute(query)\n",
    "    for row1 in conn:\n",
    "        print(row1)"
   ]
  },
  {
   "cell_type": "code",
   "execution_count": 76,
   "metadata": {},
   "outputs": [
    {
     "name": "stdout",
     "output_type": "stream",
     "text": [
      "(1, 'Jack', 'Bio')\n",
      "(2, 'Kate', 'Sociology')\n",
      "(3, 'Claire', 'Chemistry')\n",
      "(4, 'Jack', 'Bio')\n",
      "(5, 'Mike', 'Computer Science')\n"
     ]
    }
   ],
   "source": [
    "show_table_results('Select * From student;')"
   ]
  },
  {
   "cell_type": "code",
   "execution_count": 89,
   "metadata": {},
   "outputs": [],
   "source": [
    "conn.execute('Insert INTO student VALUES(2, \"Kate\", \"Sociology\");')\n",
    "# conn.execute('Insert INTO student(student_id, name) VALUES(3, \"Claire\");')\n",
    "conn.execute('Insert INTO student VALUES(3, \"Claire\", \"Chemistry\");')\n",
    "conn.execute('Insert INTO student VALUES(4, \"Jack\", \"Biology\");')\n",
    "conn.execute('Insert INTO student VALUES(5, \"Mike\", \"Computer Science\");')"
   ]
  },
  {
   "cell_type": "code",
   "execution_count": 70,
   "metadata": {},
   "outputs": [],
   "source": [
    "conn.execute('DROP TABLE student;\")\")\")\")')"
   ]
  },
  {
   "cell_type": "code",
   "execution_count": 66,
   "metadata": {},
   "outputs": [],
   "source": [
    "conn.execute('CREATE TABLE student (student_id INT, name VARCHAR(20) NOT NULL, major VARCHAR(20) UNIQUE, PRIMARY KEY(student_id))')"
   ]
  },
  {
   "cell_type": "code",
   "execution_count": 83,
   "metadata": {},
   "outputs": [],
   "source": [
    "conn.execute('UPDATE student SET major=\"Bio\" WHERE major = \"Biology\";')\n",
    "conn.execute('UPDATE student SET major=\"Comp Sci\" WHERE major = \"Computer Science\";')\n",
    "conn.execute('UPDATE student SET major=\"Comp Sci\" WHERE student_id = 4;')\n",
    "conn.execute('UPDATE student SET major=\"BioChemistry\" WHERE major = \"Bio\" OR major = \"Chemistry\";')\n",
    "\n",
    "# If remove where condition then the changes will be affected to every single row."
   ]
  },
  {
   "cell_type": "code",
   "execution_count": 85,
   "metadata": {},
   "outputs": [],
   "source": [
    "conn.execute('DELETE FROM student where student_id = 5')"
   ]
  },
  {
   "cell_type": "code",
   "execution_count": null,
   "metadata": {},
   "outputs": [],
   "source": [
    "show_table_results('Select * From student;')"
   ]
  },
  {
   "cell_type": "code",
   "execution_count": 102,
   "metadata": {},
   "outputs": [
    {
     "name": "stdout",
     "output_type": "stream",
     "text": [
      "('Mike', 'Computer Science')\n",
      "('Jack', 'Biology')\n",
      "('Claire', 'Chemistry')\n",
      "('Kate', 'Sociology')\n",
      "('Jack', 'Biology')\n",
      "============\n",
      "(1, 'Jack', 'Biology')\n",
      "(4, 'Jack', 'Biology')\n",
      "(3, 'Claire', 'Chemistry')\n",
      "(5, 'Mike', 'Computer Science')\n",
      "(2, 'Kate', 'Sociology')\n",
      "============\n",
      "(1, 'Jack', 'Biology')\n",
      "(4, 'Jack', 'Biology')\n",
      "============\n",
      "(2, 'Kate', 'Sociology')\n",
      "(3, 'Claire', 'Chemistry')\n",
      "(5, 'Mike', 'Computer Science')\n"
     ]
    }
   ],
   "source": [
    "show_table_results('Select student.name, student.major From student ORDER BY student_id DESC;')\n",
    "print('============')\n",
    "show_table_results('Select * From student ORDER BY major, student_id ASC;')\n",
    "print('============')\n",
    "show_table_results('Select * From student ORDER BY major, student_id ASC limit 2;')\n",
    "print('============')\n",
    "show_table_results('Select * From student Where name IN (\"Claire\", \"Kate\", \"Mike\");')"
   ]
  },
  {
   "cell_type": "code",
   "execution_count": 6,
   "metadata": {},
   "outputs": [
    {
     "name": "stdout",
     "output_type": "stream",
     "text": [
      "Is DB - Company_Database already Created: False\n",
      "Database Company_Database is created.\n"
     ]
    }
   ],
   "source": [
    "from mysql_db import mysql_conn\n",
    "mysql_conn = mysql_conn.mysql_connection()\n",
    "conn = mysql_conn.mysql\n"
   ]
  },
  {
   "cell_type": "code",
   "execution_count": 19,
   "metadata": {},
   "outputs": [],
   "source": [
    "conn.execute('DROP DATABASE Company_Database;')"
   ]
  },
  {
   "cell_type": "code",
   "execution_count": 20,
   "metadata": {},
   "outputs": [
    {
     "name": "stdout",
     "output_type": "stream",
     "text": [
      "Is DB - Company_Database already Created: False\n",
      "Database Company_Database is created.\n"
     ]
    }
   ],
   "source": [
    "create_db(db_name ='Company_Database')"
   ]
  },
  {
   "cell_type": "code",
   "execution_count": 21,
   "metadata": {},
   "outputs": [],
   "source": [
    "conn.execute('USE Company_Database;')"
   ]
  },
  {
   "cell_type": "code",
   "execution_count": 22,
   "metadata": {},
   "outputs": [],
   "source": [
    "conn.execute('CREATE TABLE employee (emp_id INT PRIMARY KEY, first_name VARCHAR(40), last_name VARCHAR(40), birth_day DATE, sex VARCHAR(1), salary INT, super_id INT, branch_id INT);')"
   ]
  },
  {
   "cell_type": "code",
   "execution_count": 23,
   "metadata": {},
   "outputs": [],
   "source": [
    "conn.execute('CREATE TABLE branch (branch_id INT PRIMARY KEY, branch_name VARCHAR(40), mgr_id INT,mgr_start_date DATE, FOREIGN KEY(mgr_id) REFERENCES employee(emp_id) ON DELETE SET NULL);')"
   ]
  },
  {
   "cell_type": "code",
   "execution_count": 24,
   "metadata": {},
   "outputs": [],
   "source": [
    "conn.execute('ALTER TABLE employee ADD FOREIGN KEY(branch_id) REFERENCES branch(branch_id) ON DELETE SET NULL;')\n",
    "conn.execute('ALTER TABLE employee ADD FOREIGN KEY(super_id) REFERENCES employee(emp_id) ON DELETE SET NULL;')"
   ]
  },
  {
   "cell_type": "code",
   "execution_count": 25,
   "metadata": {},
   "outputs": [],
   "source": [
    "conn.execute('CREATE TABLE client (client_id INT PRIMARY KEY, client_name VARCHAR(40), branch_id INT, FOREIGN KEY(branch_id) REFERENCES branch(branch_id) ON DELETE SET NULL);')"
   ]
  },
  {
   "cell_type": "code",
   "execution_count": 26,
   "metadata": {},
   "outputs": [],
   "source": [
    "conn.execute('CREATE TABLE works_with ( emp_id INT, client_id INT, total_sales INT, PRIMARY KEY(emp_id, client_id), FOREIGN KEY(emp_id) REFERENCES employee(emp_id) ON DELETE CASCADE, FOREIGN KEY(client_id) REFERENCES client(client_id) ON DELETE CASCADE);')"
   ]
  },
  {
   "cell_type": "code",
   "execution_count": 27,
   "metadata": {},
   "outputs": [],
   "source": [
    "conn.execute('CREATE TABLE branch_supplier (branch_id INT, supplier_name VARCHAR(40), supply_type VARCHAR(40), PRIMARY KEY(branch_id, supplier_name), FOREIGN KEY(branch_id) REFERENCES branch(branch_id) ON DELETE CASCADE);')"
   ]
  },
  {
   "cell_type": "code",
   "execution_count": 28,
   "metadata": {},
   "outputs": [],
   "source": [
    "conn.execute('INSERT INTO employee VALUES(100, \"David\", \"Wallace\", \"1967-11-17\", \"M\", 250000, NULL, NULL);')\n",
    "conn.execute('INSERT INTO branch VALUES(1, \"Corporate\", 100, \"2006-02-09\");')"
   ]
  },
  {
   "cell_type": "code",
   "execution_count": 29,
   "metadata": {},
   "outputs": [],
   "source": [
    "conn.execute('UPDATE employee SET branch_id = 1 WHERE emp_id = 100;')"
   ]
  },
  {
   "cell_type": "code",
   "execution_count": 30,
   "metadata": {},
   "outputs": [],
   "source": [
    "conn.execute(\"INSERT INTO employee VALUES(101, 'Jan', 'Levinson', '1961-05-11', 'F', 110000, 100, 1);\")\n",
    "conn.execute(\"INSERT INTO employee VALUES(102, 'Michael', 'Scott', '1964-03-15', 'M', 75000, 100, NULL);\")\n",
    "conn.execute(\"INSERT INTO branch VALUES(2, 'Scranton', 102, '1992-04-06');\")\n"
   ]
  },
  {
   "cell_type": "code",
   "execution_count": 31,
   "metadata": {},
   "outputs": [],
   "source": [
    "conn.execute(\"UPDATE employee SET branch_id = 2 WHERE emp_id = 102;\")\n",
    "conn.execute(\"INSERT INTO employee VALUES(103, 'Angela', 'Martin', '1971-06-25', 'F', 63000, 102, 2);\")\n",
    "conn.execute(\"INSERT INTO employee VALUES(104, 'Kelly', 'Kapoor', '1980-02-05', 'F', 55000, 102, 2);\")\n",
    "conn.execute(\"INSERT INTO employee VALUES(105, 'Stanley', 'Hudson', '1958-02-19', 'M', 69000, 102, 2);\")\n",
    "conn.execute(\"INSERT INTO employee VALUES(106, 'Josh', 'Porter', '1969-09-05', 'M', 78000, 100, NULL);\")\n",
    "conn.execute(\"INSERT INTO branch VALUES(3, 'Stamford', 106, '1998-02-13');\")\n",
    "conn.execute(\"UPDATE employee SET branch_id = 3 WHERE emp_id = 106;\")\n",
    "\n",
    "\n",
    "conn.execute(\"INSERT INTO employee VALUES(107, 'Andy', 'Bernard', '1973-07-22', 'M', 65000, 106, 3);\")\n",
    "conn.execute(\"INSERT INTO employee VALUES(108, 'Jim', 'Halpert', '1978-10-01', 'M', 71000, 106, 3);\")\n",
    "\n",
    "conn.execute(\"INSERT INTO branch_supplier VALUES(2, 'Hammer Mill', 'Paper');\")\n",
    "conn.execute(\"INSERT INTO branch_supplier VALUES(2, 'Uni-ball', 'Writing Utensils');\")\n",
    "conn.execute(\"INSERT INTO branch_supplier VALUES(3, 'Patriot Paper', 'Paper');\")\n",
    "conn.execute(\"INSERT INTO branch_supplier VALUES(2, 'J.T. Forms & Labels', 'Custom Forms');\")\n",
    "\n",
    "conn.execute(\"INSERT INTO branch_supplier VALUES(3, 'Uni-ball', 'Writing Utensils');\")\n",
    "conn.execute(\"INSERT INTO branch_supplier VALUES(3, 'Hammer Mill', 'Paper');\")\n",
    "conn.execute(\"INSERT INTO branch_supplier VALUES(3, 'Stamford Lables', 'Custom Forms');\")\n",
    "\n",
    "conn.execute(\"INSERT INTO client VALUES(400, 'Dunmore Highschool', 2);\")\n",
    "conn.execute(\"INSERT INTO client VALUES(401, 'Lackawana Country', 2);\")\n",
    "conn.execute(\"INSERT INTO client VALUES(402, 'FedEx', 3);\")\n",
    "conn.execute(\"INSERT INTO client VALUES(403, 'John Daly Law, LLC', 3);\")\n",
    "conn.execute(\"INSERT INTO client VALUES(404, 'Scranton Whitepages', 2);\")\n",
    "conn.execute(\"INSERT INTO client VALUES(405, 'Times Newspaper', 3);\")\n",
    "conn.execute(\"INSERT INTO client VALUES(406, 'FedEx', 2);\")\n",
    "\n",
    "conn.execute(\"INSERT INTO works_with VALUES(105, 400, 55000);\")\n",
    "conn.execute(\"INSERT INTO works_with VALUES(102, 401, 267000);\")\n",
    "conn.execute(\"INSERT INTO works_with VALUES(108, 402, 22500);\")\n",
    "conn.execute(\"INSERT INTO works_with VALUES(107, 403, 5000);\")\n",
    "conn.execute(\"INSERT INTO works_with VALUES(108, 403, 12000);\")\n",
    "conn.execute(\"INSERT INTO works_with VALUES(105, 404, 33000);\")\n",
    "conn.execute(\"INSERT INTO works_with VALUES(107, 405, 26000);\")\n",
    "conn.execute(\"INSERT INTO works_with VALUES(102, 406, 15000);\")\n",
    "conn.execute(\"INSERT INTO works_with VALUES(105, 406, 130000);\")"
   ]
  },
  {
   "cell_type": "code",
   "execution_count": 56,
   "metadata": {},
   "outputs": [
    {
     "name": "stdout",
     "output_type": "stream",
     "text": [
      "(100, 'David', 'Wallace', datetime.date(1967, 11, 17), 'M', 250000, None, 1)\n",
      "(101, 'Jan', 'Levinson', datetime.date(1961, 5, 11), 'F', 110000, 100, 1)\n",
      "(102, 'Michael', 'Scott', datetime.date(1964, 3, 15), 'M', 75000, 100, 2)\n",
      "(103, 'Angela', 'Martin', datetime.date(1971, 6, 25), 'F', 63000, 102, 2)\n",
      "(104, 'Kelly', 'Kapoor', datetime.date(1980, 2, 5), 'F', 55000, 102, 2)\n",
      "============\n",
      "('David', 'Wallace')\n",
      "('Jan', 'Levinson')\n",
      "('Michael', 'Scott')\n",
      "('Angela', 'Martin')\n",
      "('Kelly', 'Kapoor')\n",
      "('Stanley', 'Hudson')\n",
      "('Josh', 'Porter')\n",
      "('Andy', 'Bernard')\n",
      "('Jim', 'Halpert')\n",
      "============\n",
      "('M',)\n",
      "('F',)\n",
      "============\n",
      "(2,)\n",
      "============\n",
      "(Decimal('103.5000'),)\n",
      "(Decimal('207'),)\n",
      "(6, 'M')\n",
      "(3, 'F')\n",
      "(Decimal('282000'), 102)\n",
      "(Decimal('218000'), 105)\n",
      "(Decimal('31000'), 107)\n",
      "(Decimal('34500'), 108)\n",
      "(Decimal('55000'), 400)\n",
      "(Decimal('267000'), 401)\n",
      "(Decimal('22500'), 402)\n",
      "(Decimal('17000'), 403)\n",
      "(Decimal('33000'), 404)\n",
      "(Decimal('26000'), 405)\n",
      "(Decimal('145000'), 406)\n",
      "============\n",
      "(6, 'M')\n",
      "(3, 'F')\n"
     ]
    }
   ],
   "source": [
    "show_table_results('Select * From employee limit 5;') # first 5 employee from table\n",
    "print('============')\n",
    "show_table_results('Select first_name AS forename, last_name AS Surname from employee;') # changing column name in output\n",
    "print('============')\n",
    "show_table_results('Select DISTINCT sex From employee')\n",
    "print('============')\n",
    "show_table_results('Select Count(emp_id) From employee WHERE sex = \"F\" AND birth_day > \"1970-01-01\";')\n",
    "print('============')\n",
    "show_table_results(\"Select AVG(emp_id) From employee WHERE sex = 'F' AND birth_day > '1970-01-01';\")\n",
    "# print('============')\n",
    "show_table_results(\"Select SUM(emp_id) From employee WHERE sex = 'F' AND birth_day > '1970-01-01';\")\n",
    "# print('============')\n",
    "show_table_results(\"Select Count(sex), sex From employee GROUP BY sex;\")\n",
    "# print('============')\n",
    "show_table_results(\"Select SUM(total_sales), emp_id From works_with GROUP BY emp_id;\")\n",
    "# print('============')\n",
    "show_table_results(\"Select SUM(total_sales), client_id From works_with GROUP BY client_id;\")\n",
    "print('============')\n",
    "show_table_results(\"Select Count(sex), sex From employee GROUP BY sex;\")"
   ]
  },
  {
   "cell_type": "code",
   "execution_count": 55,
   "metadata": {},
   "outputs": [
    {
     "name": "stdout",
     "output_type": "stream",
     "text": [
      "(101, 'Jan', 'Levinson', 'David', 'Wallace')\n",
      "(102, 'Michael', 'Scott', 'David', 'Wallace')\n",
      "(103, 'Angela', 'Martin', 'Michael', 'Scott')\n",
      "(104, 'Kelly', 'Kapoor', 'Michael', 'Scott')\n",
      "(105, 'Stanley', 'Hudson', 'Michael', 'Scott')\n",
      "(106, 'Josh', 'Porter', 'David', 'Wallace')\n",
      "(107, 'Andy', 'Bernard', 'Josh', 'Porter')\n",
      "(108, 'Jim', 'Halpert', 'Josh', 'Porter')\n"
     ]
    }
   ],
   "source": [
    "show_table_results(\"Select e.emp_id, e.first_name, e.last_name, m.first_name 'MGR_First_name', m.last_name 'MGR_Last_name' FROM employee e join employee m ON (e.super_id = m.emp_id);\")"
   ]
  },
  {
   "cell_type": "code",
   "execution_count": 54,
   "metadata": {},
   "outputs": [
    {
     "name": "stdout",
     "output_type": "stream",
     "text": [
      "(100, 'David', 'Wallace', datetime.date(1967, 11, 17), 'M', 250000, None, 1)\n",
      "(101, 'Jan', 'Levinson', datetime.date(1961, 5, 11), 'F', 110000, 100, 1)\n",
      "(102, 'Michael', 'Scott', datetime.date(1964, 3, 15), 'M', 75000, 100, 2)\n",
      "(103, 'Angela', 'Martin', datetime.date(1971, 6, 25), 'F', 63000, 102, 2)\n",
      "(104, 'Kelly', 'Kapoor', datetime.date(1980, 2, 5), 'F', 55000, 102, 2)\n",
      "(105, 'Stanley', 'Hudson', datetime.date(1958, 2, 19), 'M', 69000, 102, 2)\n",
      "(106, 'Josh', 'Porter', datetime.date(1969, 9, 5), 'M', 78000, 100, 3)\n",
      "(107, 'Andy', 'Bernard', datetime.date(1973, 7, 22), 'M', 65000, 106, 3)\n",
      "(108, 'Jim', 'Halpert', datetime.date(1978, 10, 1), 'M', 71000, 106, 3)\n"
     ]
    }
   ],
   "source": [
    "show_table_results(\"Select * From employee;\")"
   ]
  },
  {
   "cell_type": "code",
   "execution_count": null,
   "metadata": {},
   "outputs": [],
   "source": []
  }
 ],
 "metadata": {
  "kernelspec": {
   "display_name": "Python 3.7.10 ('test_env')",
   "language": "python",
   "name": "python3"
  },
  "language_info": {
   "codemirror_mode": {
    "name": "ipython",
    "version": 3
   },
   "file_extension": ".py",
   "mimetype": "text/x-python",
   "name": "python",
   "nbconvert_exporter": "python",
   "pygments_lexer": "ipython3",
   "version": "3.7.10"
  },
  "orig_nbformat": 4,
  "vscode": {
   "interpreter": {
    "hash": "1b06012a691e9a82b399fa5b62befdaf40e22bd99842e7a926c3ab0bb48ceaec"
   }
  }
 },
 "nbformat": 4,
 "nbformat_minor": 2
}
